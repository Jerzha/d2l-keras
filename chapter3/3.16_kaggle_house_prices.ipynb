{
 "cells": [
  {
   "cell_type": "markdown",
   "metadata": {
    "collapsed": true,
    "pycharm": {
     "name": "#%% md\n"
    }
   },
   "source": [
    "## 3.16 实战Kaggle比赛：房价预测\n",
    "\n",
    "### 3.16.1 Kaggle比赛\n",
    "\n",
    "[房价预测比赛地址](https://www.kaggle.com/c/house-prices-advanced-regression-techniques)\n",
    "\n",
    "### 3.16.2 获取和读取数据集"
   ]
  },
  {
   "cell_type": "code",
   "execution_count": 1,
   "metadata": {
    "pycharm": {
     "is_executing": false,
     "name": "#%%\n"
    }
   },
   "outputs": [
    {
     "name": "stderr",
     "text": [
      "Using TensorFlow backend.\n"
     ],
     "output_type": "stream"
    }
   ],
   "source": [
    "import pandas as pd\n",
    "import keras\n",
    "import keras.backend as K\n",
    "from livelossplot.keras import PlotLossesCallback"
   ]
  },
  {
   "cell_type": "code",
   "execution_count": 2,
   "metadata": {
    "pycharm": {
     "is_executing": false,
     "name": "#%%\n"
    }
   },
   "outputs": [],
   "source": [
    "train_data = pd.read_csv('../data/house-prices-advanced-regression-techniques/train.csv')\n",
    "test_data = pd.read_csv('../data/house-prices-advanced-regression-techniques/test.csv')"
   ]
  },
  {
   "cell_type": "code",
   "execution_count": 3,
   "metadata": {
    "pycharm": {
     "is_executing": false,
     "name": "#%%\n"
    }
   },
   "outputs": [
    {
     "name": "stdout",
     "text": [
      "(1460, 81) (1459, 80)\n"
     ],
     "output_type": "stream"
    },
    {
     "data": {
      "text/plain": "   Id  MSSubClass MSZoning  LotFrontage SaleType SaleCondition  SalePrice\n0   1          60       RL         65.0       WD        Normal     208500\n1   2          20       RL         80.0       WD        Normal     181500\n2   3          60       RL         68.0       WD        Normal     223500\n3   4          70       RL         60.0       WD       Abnorml     140000",
      "text/html": "<div>\n<style scoped>\n    .dataframe tbody tr th:only-of-type {\n        vertical-align: middle;\n    }\n\n    .dataframe tbody tr th {\n        vertical-align: top;\n    }\n\n    .dataframe thead th {\n        text-align: right;\n    }\n</style>\n<table border=\"1\" class=\"dataframe\">\n  <thead>\n    <tr style=\"text-align: right;\">\n      <th></th>\n      <th>Id</th>\n      <th>MSSubClass</th>\n      <th>MSZoning</th>\n      <th>LotFrontage</th>\n      <th>SaleType</th>\n      <th>SaleCondition</th>\n      <th>SalePrice</th>\n    </tr>\n  </thead>\n  <tbody>\n    <tr>\n      <td>0</td>\n      <td>1</td>\n      <td>60</td>\n      <td>RL</td>\n      <td>65.0</td>\n      <td>WD</td>\n      <td>Normal</td>\n      <td>208500</td>\n    </tr>\n    <tr>\n      <td>1</td>\n      <td>2</td>\n      <td>20</td>\n      <td>RL</td>\n      <td>80.0</td>\n      <td>WD</td>\n      <td>Normal</td>\n      <td>181500</td>\n    </tr>\n    <tr>\n      <td>2</td>\n      <td>3</td>\n      <td>60</td>\n      <td>RL</td>\n      <td>68.0</td>\n      <td>WD</td>\n      <td>Normal</td>\n      <td>223500</td>\n    </tr>\n    <tr>\n      <td>3</td>\n      <td>4</td>\n      <td>70</td>\n      <td>RL</td>\n      <td>60.0</td>\n      <td>WD</td>\n      <td>Abnorml</td>\n      <td>140000</td>\n    </tr>\n  </tbody>\n</table>\n</div>"
     },
     "metadata": {},
     "output_type": "execute_result",
     "execution_count": 3
    }
   ],
   "source": [
    "print(train_data.shape, test_data.shape)\n",
    "train_data.iloc[0:4, [0, 1, 2, 3, -3, -2, -1]]\n"
   ]
  },
  {
   "cell_type": "code",
   "execution_count": 4,
   "metadata": {
    "pycharm": {
     "is_executing": false,
     "name": "#%%\n"
    }
   },
   "outputs": [
    {
     "data": {
      "text/plain": "(2919, 79)"
     },
     "metadata": {},
     "output_type": "execute_result",
     "execution_count": 4
    }
   ],
   "source": [
    "all_features = pd.concat((train_data.iloc[:, 1:-1], test_data.iloc[:, 1:]))\n",
    "all_features.shape"
   ]
  },
  {
   "cell_type": "markdown",
   "metadata": {
    "pycharm": {
     "name": "#%% md\n"
    }
   },
   "source": [
    "### 3.16.3 预处理数据"
   ]
  },
  {
   "cell_type": "code",
   "execution_count": 5,
   "metadata": {
    "pycharm": {
     "is_executing": false,
     "name": "#%%\n"
    }
   },
   "outputs": [],
   "source": [
    "numeric_features = all_features.dtypes[all_features.dtypes != 'object'].index\n",
    "all_features[numeric_features] = all_features[numeric_features].apply(\n",
    "    lambda x: (x - x.mean()) / (x.std()))\n",
    "# 标准化后，每个特征的均值变为0，所以可以直接用0来替换缺失值\n",
    "all_features[numeric_features] = all_features[numeric_features].fillna(0)"
   ]
  },
  {
   "cell_type": "code",
   "execution_count": 6,
   "metadata": {
    "pycharm": {
     "is_executing": false,
     "name": "#%%\n"
    }
   },
   "outputs": [
    {
     "data": {
      "text/plain": "(2919, 331)"
     },
     "metadata": {},
     "output_type": "execute_result",
     "execution_count": 6
    }
   ],
   "source": [
    "# dummy_na=True将缺失值也当作合法的特征值并为其创建指示特征\n",
    "all_features = pd.get_dummies(all_features, dummy_na=True)\n",
    "all_features.shape"
   ]
  },
  {
   "cell_type": "code",
   "execution_count": 7,
   "metadata": {
    "pycharm": {
     "is_executing": false,
     "name": "#%%\n"
    }
   },
   "outputs": [
    {
     "name": "stdout",
     "text": [
      "[[ 0.06731988 -0.18444262 -0.21784137 ...  1.          0.\n   0.        ]\n [-0.87346638  0.45809588 -0.07203174 ...  1.          0.\n   0.        ]\n [ 0.06731988 -0.05593492  0.13717338 ...  1.          0.\n   0.        ]\n ...\n [ 0.30251644 -0.14160672 -0.14278111 ...  1.          0.\n   0.        ]\n [-0.87346638 -0.05593492 -0.0571972  ...  1.          0.\n   0.        ]\n [-0.87346638  0.24391638 -0.02930318 ...  1.          0.\n   0.        ]]\n[[208500]\n [181500]\n [223500]\n ...\n [266500]\n [142125]\n [147500]]\n"
     ],
     "output_type": "stream"
    }
   ],
   "source": [
    "n_train = train_data.shape[0]\n",
    "train_features = all_features[:n_train].values\n",
    "test_features = all_features[n_train:].values\n",
    "train_labels = train_data.SalePrice.values.reshape((-1, 1))\n",
    "\n",
    "print(train_features)\n",
    "print(train_labels)"
   ]
  },
  {
   "cell_type": "markdown",
   "metadata": {
    "pycharm": {
     "name": "#%% md\n"
    }
   },
   "source": [
    "### 3.16.4 训练模型"
   ]
  },
  {
   "cell_type": "code",
   "execution_count": 8,
   "metadata": {
    "pycharm": {
     "is_executing": false,
     "name": "#%%\n"
    }
   },
   "outputs": [
    {
     "data": {
      "text/plain": "<Figure size 864x576 with 2 Axes>",
      "image/png": "[encoded data removed]"
     },
     "metadata": {
      "needs_background": "light"
     },
     "output_type": "display_data"
    },
    {
     "name": "stdout",
     "text": [
      "squared_loss (cost function):\ntraining   (min: 698765665.680, max: 19272129391.050, cur: 698765665.680)\nvalidation (min: 412260488.329, max: 17203035430.575, cur: 412260488.329)\n\nrmse_log:\ntraining   (min:    0.162, max:    5.249, cur:    0.162)\nvalidation (min:    0.160, max:    3.635, cur:    0.160)\n"
     ],
     "output_type": "stream"
    },
    {
     "data": {
      "text/plain": "<keras.callbacks.callbacks.History at 0x142541a20>"
     },
     "metadata": {},
     "output_type": "execute_result",
     "execution_count": 8
    }
   ],
   "source": [
    "model = keras.Sequential()\n",
    "#model.add(keras.layers.Dense(32))\n",
    "model.add(keras.layers.Dense(1))\n",
    "\n",
    "def squared_loss(y_true, y_pred):\n",
    "    return K.square(y_pred - y_true) / 2\n",
    "\n",
    "def rmse_log(y_true, y_pred):\n",
    "    log_true = K.log(K.clip(y_true, K.epsilon(), None))\n",
    "    log_pred = K.log(K.clip(y_pred, K.epsilon(), None))\n",
    "    return K.sqrt(K.mean(K.square(log_true - log_pred)))\n",
    "\n",
    "model.compile(\n",
    "    loss=squared_loss, \n",
    "    optimizer=keras.optimizers.Adam(lr=5), metrics=[rmse_log])\n",
    "\n",
    "model.fit(train_features, train_labels, \n",
    "          epochs=100, batch_size=64, validation_split=0.1,\n",
    "          verbose=1, callbacks=[PlotLossesCallback()])"
   ]
  },
  {
   "cell_type": "markdown",
   "metadata": {
    "pycharm": {
     "name": "#%% md\n"
    }
   },
   "source": [
    "### 3.16.5 K折线验证\n",
    "(pass)\n",
    "### 3.16.6 模型选择\n",
    "\n",
    "### 3.16.7 预测并在Kaggle提交结果"
   ]
  },
  {
   "cell_type": "code",
   "execution_count": 9,
   "metadata": {
    "pycharm": {
     "is_executing": false,
     "name": "#%%\n"
    }
   },
   "outputs": [],
   "source": [
    "test_labels = model.predict(test_features)\n",
    "test_data['SalePrice'] = pd.Series(test_labels.reshape(1, -1)[0])\n",
    "submission = pd.concat([test_data['Id'], test_data['SalePrice']], axis=1)\n",
    "submission.to_csv('../data/house-prices-advanced-regression-techniques/submission.csv', index=False)"
   ]
  }
 ],
 "metadata": {
  "kernelspec": {
   "display_name": "PyCharm (Mask_RCNN)",
   "language": "python",
   "name": "pycharm-f0910e4c"
  },
  "language_info": {
   "codemirror_mode": {
    "name": "ipython",
    "version": 3
   },
   "file_extension": ".py",
   "mimetype": "text/x-python",
   "name": "python",
   "nbconvert_exporter": "python",
   "pygments_lexer": "ipython3",
   "version": "3.6.8"
  },
  "pycharm": {
   "stem_cell": {
    "cell_type": "raw",
    "source": [],
    "metadata": {
     "collapsed": false
    }
   }
  }
 },
 "nbformat": 4,
 "nbformat_minor": 1
}