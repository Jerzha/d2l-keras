{
 "cells": [
  {
   "cell_type": "markdown",
   "metadata": {
    "collapsed": true,
    "pycharm": {
     "name": "#%% md\n"
    }
   },
   "source": [
    "## 4.2 模型参数的访问、初始化和共享"
   ]
  },
  {
   "cell_type": "code",
   "execution_count": 1,
   "outputs": [
    {
     "name": "stderr",
     "text": [
      "Using TensorFlow backend.\n"
     ],
     "output_type": "stream"
    }
   ],
   "source": [
    "import keras\n",
    "import keras.backend as K\n",
    "import numpy as np\n",
    "\n",
    "net = keras.Sequential()\n",
    "net.add(keras.layers.Dense(256, activation='relu')) # 使用默认初始化方式\n",
    "net.add(keras.layers.Dense(10))                     # 使用默认初始化方式\n",
    "net.compile(optimizer='sgd')  \n",
    "\n",
    "X = np.random.uniform(size=(2, 20))\n",
    "Y = net.predict(X)  # 前向计算"
   ],
   "metadata": {
    "collapsed": false,
    "pycharm": {
     "name": "#%%\n",
     "is_executing": false
    }
   }
  },
  {
   "cell_type": "markdown",
   "source": [
    "### 4.2.1 访问模型参数"
   ],
   "metadata": {
    "collapsed": false,
    "pycharm": {
     "name": "#%% md\n"
    }
   }
  },
  {
   "cell_type": "code",
   "execution_count": 2,
   "outputs": [
    {
     "data": {
      "text/plain": "([<tf.Variable 'dense_1/kernel:0' shape=(20, 256) dtype=float32, numpy=\n  array([[ 0.1205816 ,  0.0753611 , -0.05747194, ..., -0.07217906,\n           0.03574692,  0.13430813],\n         [-0.03761684,  0.12447706, -0.12496642, ...,  0.09544241,\n           0.01378511,  0.1225442 ],\n         [-0.11565617, -0.02273054,  0.02811325, ...,  0.12842882,\n          -0.13889137, -0.00246903],\n         ...,\n         [-0.08335442, -0.0695291 ,  0.1106275 , ...,  0.06649667,\n          -0.03844124, -0.1327826 ],\n         [ 0.14682013, -0.13804136,  0.09525326, ..., -0.06203827,\n          -0.10529658, -0.03837983],\n         [-0.14531714, -0.03254913,  0.04843275, ..., -0.12882923,\n          -0.01413646,  0.10475597]], dtype=float32)>,\n  <tf.Variable 'dense_1/bias:0' shape=(256,) dtype=float32, numpy=\n  array([0., 0., 0., 0., 0., 0., 0., 0., 0., 0., 0., 0., 0., 0., 0., 0., 0.,\n         0., 0., 0., 0., 0., 0., 0., 0., 0., 0., 0., 0., 0., 0., 0., 0., 0.,\n         0., 0., 0., 0., 0., 0., 0., 0., 0., 0., 0., 0., 0., 0., 0., 0., 0.,\n         0., 0., 0., 0., 0., 0., 0., 0., 0., 0., 0., 0., 0., 0., 0., 0., 0.,\n         0., 0., 0., 0., 0., 0., 0., 0., 0., 0., 0., 0., 0., 0., 0., 0., 0.,\n         0., 0., 0., 0., 0., 0., 0., 0., 0., 0., 0., 0., 0., 0., 0., 0., 0.,\n         0., 0., 0., 0., 0., 0., 0., 0., 0., 0., 0., 0., 0., 0., 0., 0., 0.,\n         0., 0., 0., 0., 0., 0., 0., 0., 0., 0., 0., 0., 0., 0., 0., 0., 0.,\n         0., 0., 0., 0., 0., 0., 0., 0., 0., 0., 0., 0., 0., 0., 0., 0., 0.,\n         0., 0., 0., 0., 0., 0., 0., 0., 0., 0., 0., 0., 0., 0., 0., 0., 0.,\n         0., 0., 0., 0., 0., 0., 0., 0., 0., 0., 0., 0., 0., 0., 0., 0., 0.,\n         0., 0., 0., 0., 0., 0., 0., 0., 0., 0., 0., 0., 0., 0., 0., 0., 0.,\n         0., 0., 0., 0., 0., 0., 0., 0., 0., 0., 0., 0., 0., 0., 0., 0., 0.,\n         0., 0., 0., 0., 0., 0., 0., 0., 0., 0., 0., 0., 0., 0., 0., 0., 0.,\n         0., 0., 0., 0., 0., 0., 0., 0., 0., 0., 0., 0., 0., 0., 0., 0., 0.,\n         0.], dtype=float32)>,\n  <tf.Variable 'dense_2/kernel:0' shape=(256, 10) dtype=float32, numpy=\n  array([[-0.06638434, -0.14014214,  0.04550688, ...,  0.08604327,\n          -0.09018377, -0.06246065],\n         [ 0.07189481, -0.06760775,  0.05147557, ..., -0.00271192,\n           0.02835619, -0.09104452],\n         [ 0.02243799,  0.14319983,  0.11146528, ...,  0.00654265,\n          -0.02688741, -0.07198973],\n         ...,\n         [-0.11055954, -0.08188265, -0.02983917, ..., -0.123145  ,\n          -0.01416862,  0.12611192],\n         [-0.11179436, -0.14799048, -0.05717821, ..., -0.10497728,\n           0.0798433 , -0.06476588],\n         [ 0.12187266, -0.04487659,  0.00582707, ...,  0.04510276,\n           0.11840948, -0.13524066]], dtype=float32)>,\n  <tf.Variable 'dense_2/bias:0' shape=(10,) dtype=float32, numpy=array([0., 0., 0., 0., 0., 0., 0., 0., 0., 0.], dtype=float32)>],\n list)"
     },
     "metadata": {},
     "output_type": "execute_result",
     "execution_count": 2
    }
   ],
   "source": [
    "net.weights, type(net.weights)"
   ],
   "metadata": {
    "collapsed": false,
    "pycharm": {
     "name": "#%%\n",
     "is_executing": false
    }
   }
  },
  {
   "cell_type": "code",
   "execution_count": 3,
   "outputs": [
    {
     "data": {
      "text/plain": "[array([[ 0.1205816 ,  0.0753611 , -0.05747194, ..., -0.07217906,\n          0.03574692,  0.13430813],\n        [-0.03761684,  0.12447706, -0.12496642, ...,  0.09544241,\n          0.01378511,  0.1225442 ],\n        [-0.11565617, -0.02273054,  0.02811325, ...,  0.12842882,\n         -0.13889137, -0.00246903],\n        ...,\n        [-0.08335442, -0.0695291 ,  0.1106275 , ...,  0.06649667,\n         -0.03844124, -0.1327826 ],\n        [ 0.14682013, -0.13804136,  0.09525326, ..., -0.06203827,\n         -0.10529658, -0.03837983],\n        [-0.14531714, -0.03254913,  0.04843275, ..., -0.12882923,\n         -0.01413646,  0.10475597]], dtype=float32)]"
     },
     "metadata": {},
     "output_type": "execute_result",
     "execution_count": 3
    }
   ],
   "source": [
    "[K.get_value(w) for w in net.weights if w.name == 'dense_1/kernel:0']"
   ],
   "metadata": {
    "collapsed": false,
    "pycharm": {
     "name": "#%%\n",
     "is_executing": false
    }
   }
  },
  {
   "cell_type": "markdown",
   "source": [
    "### 4.2.2 初始化模型参数"
   ],
   "metadata": {
    "collapsed": false,
    "pycharm": {
     "name": "#%% md\n"
    }
   }
  },
  {
   "cell_type": "code",
   "execution_count": 4,
   "outputs": [],
   "source": [
    "net = keras.Sequential()\n",
    "net.add(keras.layers.Dense(256, activation='relu', kernel_initializer=keras.initializers.normal(stddev=0.1))) \n",
    "net.add(keras.layers.Dense(10, kernel_initializer=keras.initializers.zeros()))          \n",
    "net.compile(optimizer='sgd')"
   ],
   "metadata": {
    "collapsed": false,
    "pycharm": {
     "name": "#%%\n",
     "is_executing": false
    }
   }
  },
  {
   "cell_type": "markdown",
   "source": [
    "### 4.2.3 自定义初始化方法"
   ],
   "metadata": {
    "collapsed": false,
    "pycharm": {
     "name": "#%% md\n"
    }
   }
  },
  {
   "cell_type": "code",
   "execution_count": 5,
   "outputs": [],
   "source": [
    "def MyInit(shape, dtype=None):\n",
    "    return K.random_normal(shape, dtype=dtype)"
   ],
   "metadata": {
    "collapsed": false,
    "pycharm": {
     "name": "#%%\n",
     "is_executing": false
    }
   }
  },
  {
   "cell_type": "markdown",
   "source": [
    "### 4.2.4 共享模型参数\n",
    "(不支持)\n"
   ],
   "metadata": {
    "collapsed": false,
    "pycharm": {
     "name": "#%% md\n"
    }
   }
  }
 ],
 "metadata": {
  "kernelspec": {
   "name": "pycharm-f0910e4c",
   "language": "python",
   "display_name": "PyCharm (Mask_RCNN)"
  },
  "language_info": {
   "codemirror_mode": {
    "name": "ipython",
    "version": 2
   },
   "file_extension": ".py",
   "mimetype": "text/x-python",
   "name": "python",
   "nbconvert_exporter": "python",
   "pygments_lexer": "ipython2",
   "version": "2.7.6"
  },
  "pycharm": {
   "stem_cell": {
    "cell_type": "raw",
    "source": [],
    "metadata": {
     "collapsed": false
    }
   }
  }
 },
 "nbformat": 4,
 "nbformat_minor": 0
}