{
 "cells": [
  {
   "cell_type": "markdown",
   "metadata": {
    "collapsed": true,
    "pycharm": {
     "name": "#%% md\n"
    }
   },
   "source": [
    "## 4.6 GPU 计算\n",
    "\n",
    "补充重点：\n",
    "\n",
    "1. Nvidia显卡可以使用命令 nvidia-smi 查看占用率\n",
    "2. 可以使用 export CUDA_VISIBLE_DEVICES=0,1,2,3 设置限制使用指定的GPU\n",
    "3. 对于非Nvidia显卡的用户，可以使用Intel的PlaidML作为Keras后端，支持CL、(MAC)Metal等其他GPU架构或者Intel自家CPU架构"
   ]
  }
 ],
 "metadata": {
  "kernelspec": {
   "display_name": "Python 3",
   "language": "python",
   "name": "python3"
  },
  "language_info": {
   "codemirror_mode": {
    "name": "ipython",
    "version": 2
   },
   "file_extension": ".py",
   "mimetype": "text/x-python",
   "name": "python",
   "nbconvert_exporter": "python",
   "pygments_lexer": "ipython2",
   "version": "2.7.6"
  },
  "pycharm": {
   "stem_cell": {
    "cell_type": "raw",
    "source": [],
    "metadata": {
     "collapsed": false
    }
   }
  }
 },
 "nbformat": 4,
 "nbformat_minor": 0
}