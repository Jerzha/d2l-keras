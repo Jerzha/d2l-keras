{
 "cells": [
  {
   "cell_type": "markdown",
   "metadata": {
    "collapsed": true,
    "pycharm": {
     "name": "#%% md\n"
    }
   },
   "source": [
    "## 5.12 稠密连接网络（DenseNet）\n",
    "### 5.12.1 稠密块"
   ]
  },
  {
   "cell_type": "code",
   "execution_count": 25,
   "outputs": [],
   "source": [
    "import tensorflow as tf\n",
    "from tensorflow import keras\n",
    "import tensorflow.keras.backend as K\n",
    "from livelossplot.tf_keras import PlotLossesCallback"
   ],
   "metadata": {
    "collapsed": false,
    "pycharm": {
     "name": "#%% \n",
     "is_executing": false
    }
   }
  },
  {
   "cell_type": "code",
   "execution_count": 2,
   "outputs": [],
   "source": [
    "def conv_block(x, num_channels):\n",
    "    x = keras.layers.BatchNormalization()(x)\n",
    "    x = keras.layers.Activation('relu')(x)\n",
    "    x = keras.layers.Conv2D(num_channels, kernel_size=3, padding='same')(x)\n",
    "    return x"
   ],
   "metadata": {
    "collapsed": false,
    "pycharm": {
     "name": "#%%\n",
     "is_executing": false
    }
   }
  },
  {
   "cell_type": "code",
   "execution_count": 16,
   "outputs": [],
   "source": [
    "class DenseBlock(keras.layers.Layer):\n",
    "    def __init__(self, num_convs, num_channels, trainable=True, name=None, dtype=None, dynamic=False, **kwargs):\n",
    "        super(DenseBlock, self).__init__(trainable, name, dtype, dynamic, **kwargs)\n",
    "        self.num_conv = num_convs\n",
    "        self.num_channels = num_channels\n",
    "        \n",
    "    def call(self, inputs, **kwargs):\n",
    "        x = inputs\n",
    "        for _ in range(self.num_conv):\n",
    "            Y = conv_block(x, self.num_channels)\n",
    "            x = K.concatenate([x, Y])\n",
    "        return x\n",
    "    "
   ],
   "metadata": {
    "collapsed": false,
    "pycharm": {
     "name": "#%%\n",
     "is_executing": false
    }
   }
  },
  {
   "cell_type": "code",
   "execution_count": 18,
   "outputs": [],
   "source": [
    "inp = keras.Input((224, 224, 1))\n",
    "dense = DenseBlock(2, 10)(inp)\n",
    "model = keras.Model(inp, dense)\n",
    "model.output_shape"
   ],
   "metadata": {
    "collapsed": false,
    "pycharm": {
     "name": "#%%\n",
     "is_executing": false
    }
   }
  },
  {
   "cell_type": "markdown",
   "source": [
    "### 5.12.2 过渡层"
   ],
   "metadata": {
    "collapsed": false,
    "pycharm": {
     "name": "#%% md\n"
    }
   }
  },
  {
   "cell_type": "code",
   "execution_count": 19,
   "outputs": [],
   "source": [
    "def transition_block(x, num_channels):\n",
    "    x = keras.layers.BatchNormalization()(x)\n",
    "    x = keras.layers.Activation('relu')(x)\n",
    "    x = keras.layers.Conv2D(num_channels, kernel_size=1)(x)\n",
    "    x = keras.layers.AvgPool2D(pool_size=2, strides=2)(x)\n",
    "    return x"
   ],
   "metadata": {
    "collapsed": false,
    "pycharm": {
     "name": "#%%\n",
     "is_executing": false
    }
   }
  },
  {
   "cell_type": "code",
   "execution_count": 20,
   "outputs": [],
   "source": [
    "inp = keras.Input((224, 224, 1))\n",
    "tran = transition_block(inp, 10)\n",
    "model = keras.Model(inp, tran)\n",
    "model.output_shape"
   ],
   "metadata": {
    "collapsed": false,
    "pycharm": {
     "name": "#%%\n",
     "is_executing": false
    }
   }
  },
  {
   "cell_type": "markdown",
   "source": [
    "### 5.12.3 DenseNet模型"
   ],
   "metadata": {
    "collapsed": false,
    "pycharm": {
     "name": "#%% md\n"
    }
   }
  },
  {
   "cell_type": "code",
   "execution_count": 30,
   "outputs": [],
   "source": [
    "inp = keras.Input((28, 28, 1))\n",
    "x = keras.layers.Lambda(lambda img: tf.image.resize(img, (96, 96)), input_shape=(28, 28, 1))(inp)\n",
    "x = keras.layers.Conv2D(64, kernel_size=7, strides=2, padding='same')(x)\n",
    "x = keras.layers.BatchNormalization()(x)\n",
    "x = keras.layers.Activation('relu')(x)\n",
    "x = keras.layers.MaxPool2D(pool_size=3, strides=2, padding='same')(x)"
   ],
   "metadata": {
    "collapsed": false,
    "pycharm": {
     "name": "#%%\n",
     "is_executing": false
    }
   }
  },
  {
   "cell_type": "code",
   "execution_count": 31,
   "outputs": [],
   "source": [
    "num_channels, growth_rate = 64, 32  # num_channels为当前的通道数\n",
    "num_convs_in_dense_blocks = [4, 4, 4, 4]\n",
    "\n",
    "for i, num_convs in enumerate(num_convs_in_dense_blocks):\n",
    "    x = DenseBlock(num_convs, growth_rate)(x)\n",
    "    # 上一个稠密块的输出通道数\n",
    "    num_channels += num_convs * growth_rate\n",
    "    # 在稠密块之间加入通道数减半的过渡层\n",
    "    if i != len(num_convs_in_dense_blocks) - 1:\n",
    "        num_channels //= 2\n",
    "        x = transition_block(x, num_channels)\n",
    "        "
   ],
   "metadata": {
    "collapsed": false,
    "pycharm": {
     "name": "#%%\n",
     "is_executing": false
    }
   }
  },
  {
   "cell_type": "code",
   "execution_count": 32,
   "outputs": [],
   "source": [
    "x = keras.layers.BatchNormalization()(x)\n",
    "x = keras.layers.Activation('relu')(x)\n",
    "x = keras.layers.GlobalAvgPool2D()(x)\n",
    "x = keras.layers.Dense(10)(x)\n",
    "x = keras.layers.Softmax()(x)\n",
    "\n",
    "model = keras.Model(inp, x)"
   ],
   "metadata": {
    "collapsed": false,
    "pycharm": {
     "name": "#%%\n",
     "is_executing": false
    }
   }
  },
  {
   "cell_type": "markdown",
   "source": [
    "### 5.12.4 获取数据并训练模型"
   ],
   "metadata": {
    "collapsed": false,
    "pycharm": {
     "name": "#%% md\n"
    }
   }
  },
  {
   "cell_type": "code",
   "execution_count": 33,
   "outputs": [],
   "source": [
    "(x_train, y_train), (x_test, y_test) = keras.datasets.fashion_mnist.load_data()\n",
    "x_train = x_train / 255."
   ],
   "metadata": {
    "collapsed": false,
    "pycharm": {
     "name": "#%%\n",
     "is_executing": false
    }
   }
  },
  {
   "cell_type": "code",
   "execution_count": null,
   "outputs": [],
   "source": [
    "def metric_accuracy(y_true, y_pred):\n",
    "    ytrue = K.flatten(y_true)\n",
    "    ypred = K.cast(K.argmax(y_pred, axis=-1), K.floatx())\n",
    "    acc = K.equal(ytrue, ypred)\n",
    "    return K.mean(acc)\n",
    "\n",
    "model.compile(optimizer=keras.optimizers.Adam(), \n",
    "              loss=keras.losses.sparse_categorical_crossentropy,\n",
    "              metrics=[metric_accuracy])\n",
    "\n",
    "model.fit(\n",
    "    x_train.reshape((x_train.shape[0], 28, 28, 1)), \n",
    "    y_train, epochs=5, batch_size=128,\n",
    "    #validation_data=(x_test.reshape(x_test.shape[0], 28, 28, 1), y_test),\n",
    "    validation_split=0.3,\n",
    "    callbacks=[PlotLossesCallback()])"
   ],
   "metadata": {
    "collapsed": false,
    "pycharm": {
     "name": "#%%\n",
     "is_executing": true
    }
   }
  }
 ],
 "metadata": {
  "kernelspec": {
   "display_name": "Python 3",
   "language": "python",
   "name": "python3"
  },
  "language_info": {
   "codemirror_mode": {
    "name": "ipython",
    "version": 2
   },
   "file_extension": ".py",
   "mimetype": "text/x-python",
   "name": "python",
   "nbconvert_exporter": "python",
   "pygments_lexer": "ipython2",
   "version": "2.7.6"
  },
  "pycharm": {
   "stem_cell": {
    "cell_type": "raw",
    "source": [],
    "metadata": {
     "collapsed": false
    }
   }
  }
 },
 "nbformat": 4,
 "nbformat_minor": 0
}