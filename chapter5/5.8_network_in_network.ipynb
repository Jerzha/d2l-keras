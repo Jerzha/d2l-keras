{
 "cells": [
  {
   "cell_type": "markdown",
   "metadata": {
    "collapsed": true,
    "pycharm": {
     "name": "#%% md\n"
    }
   },
   "source": [
    "## 5.8 网络中的网络（NiN）\n",
    "\n",
    "### 5.8.1 NiN 快"
   ]
  },
  {
   "cell_type": "code",
   "execution_count": 1,
   "outputs": [
    {
     "name": "stderr",
     "text": [
      "/usr/local/lib/python3.6/site-packages/tensorflow/python/framework/dtypes.py:516: FutureWarning: Passing (type, 1) or '1type' as a synonym of type is deprecated; in a future version of numpy, it will be understood as (type, (1,)) / '(1,)type'.\n  _np_qint8 = np.dtype([(\"qint8\", np.int8, 1)])\n/usr/local/lib/python3.6/site-packages/tensorflow/python/framework/dtypes.py:517: FutureWarning: Passing (type, 1) or '1type' as a synonym of type is deprecated; in a future version of numpy, it will be understood as (type, (1,)) / '(1,)type'.\n  _np_quint8 = np.dtype([(\"quint8\", np.uint8, 1)])\n/usr/local/lib/python3.6/site-packages/tensorflow/python/framework/dtypes.py:518: FutureWarning: Passing (type, 1) or '1type' as a synonym of type is deprecated; in a future version of numpy, it will be understood as (type, (1,)) / '(1,)type'.\n  _np_qint16 = np.dtype([(\"qint16\", np.int16, 1)])\n/usr/local/lib/python3.6/site-packages/tensorflow/python/framework/dtypes.py:519: FutureWarning: Passing (type, 1) or '1type' as a synonym of type is deprecated; in a future version of numpy, it will be understood as (type, (1,)) / '(1,)type'.\n  _np_quint16 = np.dtype([(\"quint16\", np.uint16, 1)])\n/usr/local/lib/python3.6/site-packages/tensorflow/python/framework/dtypes.py:520: FutureWarning: Passing (type, 1) or '1type' as a synonym of type is deprecated; in a future version of numpy, it will be understood as (type, (1,)) / '(1,)type'.\n  _np_qint32 = np.dtype([(\"qint32\", np.int32, 1)])\n/usr/local/lib/python3.6/site-packages/tensorflow/python/framework/dtypes.py:525: FutureWarning: Passing (type, 1) or '1type' as a synonym of type is deprecated; in a future version of numpy, it will be understood as (type, (1,)) / '(1,)type'.\n  np_resource = np.dtype([(\"resource\", np.ubyte, 1)])\n",
      "/usr/local/lib/python3.6/site-packages/tensorboard/compat/tensorflow_stub/dtypes.py:541: FutureWarning: Passing (type, 1) or '1type' as a synonym of type is deprecated; in a future version of numpy, it will be understood as (type, (1,)) / '(1,)type'.\n  _np_qint8 = np.dtype([(\"qint8\", np.int8, 1)])\n/usr/local/lib/python3.6/site-packages/tensorboard/compat/tensorflow_stub/dtypes.py:542: FutureWarning: Passing (type, 1) or '1type' as a synonym of type is deprecated; in a future version of numpy, it will be understood as (type, (1,)) / '(1,)type'.\n  _np_quint8 = np.dtype([(\"quint8\", np.uint8, 1)])\n/usr/local/lib/python3.6/site-packages/tensorboard/compat/tensorflow_stub/dtypes.py:543: FutureWarning: Passing (type, 1) or '1type' as a synonym of type is deprecated; in a future version of numpy, it will be understood as (type, (1,)) / '(1,)type'.\n  _np_qint16 = np.dtype([(\"qint16\", np.int16, 1)])\n/usr/local/lib/python3.6/site-packages/tensorboard/compat/tensorflow_stub/dtypes.py:544: FutureWarning: Passing (type, 1) or '1type' as a synonym of type is deprecated; in a future version of numpy, it will be understood as (type, (1,)) / '(1,)type'.\n  _np_quint16 = np.dtype([(\"quint16\", np.uint16, 1)])\n/usr/local/lib/python3.6/site-packages/tensorboard/compat/tensorflow_stub/dtypes.py:545: FutureWarning: Passing (type, 1) or '1type' as a synonym of type is deprecated; in a future version of numpy, it will be understood as (type, (1,)) / '(1,)type'.\n  _np_qint32 = np.dtype([(\"qint32\", np.int32, 1)])\n/usr/local/lib/python3.6/site-packages/tensorboard/compat/tensorflow_stub/dtypes.py:550: FutureWarning: Passing (type, 1) or '1type' as a synonym of type is deprecated; in a future version of numpy, it will be understood as (type, (1,)) / '(1,)type'.\n  np_resource = np.dtype([(\"resource\", np.ubyte, 1)])\n"
     ],
     "output_type": "stream"
    }
   ],
   "source": [
    "import tensorflow as tf"
   ],
   "metadata": {
    "collapsed": false,
    "pycharm": {
     "name": "#%%\n",
     "is_executing": false
    }
   }
  },
  {
   "cell_type": "code",
   "execution_count": 2,
   "outputs": [],
   "source": [
    "def nin_block(num_channels, kernel_size, strides, padding):\n",
    "    def layer(xn):\n",
    "        xn = tf.keras.layers.Conv2D(\n",
    "            num_channels, kernel_size, strides=strides, padding=padding, activation='relu')(xn)\n",
    "        xn = tf.keras.layers.Conv2D(num_channels, (1, 1), activation='relu')(xn)\n",
    "        xn = tf.keras.layers.Conv2D(num_channels, (1, 1), activation='relu')(xn)\n",
    "        return xn\n",
    "    return layer\n",
    "        "
   ],
   "metadata": {
    "collapsed": false,
    "pycharm": {
     "name": "#%%\n",
     "is_executing": false
    }
   }
  },
  {
   "cell_type": "markdown",
   "source": [
    "### 5.8.2 NiN模型"
   ],
   "metadata": {
    "collapsed": false,
    "pycharm": {
     "name": "#%% md\n"
    }
   }
  },
  {
   "cell_type": "code",
   "execution_count": 3,
   "outputs": [
    {
     "name": "stdout",
     "text": [
      "WARNING:tensorflow:From /usr/local/lib/python3.6/site-packages/tensorflow/python/ops/init_ops.py:1251: calling VarianceScaling.__init__ (from tensorflow.python.ops.init_ops) with dtype is deprecated and will be removed in a future version.\nInstructions for updating:\nCall initializer instance with the dtype argument instead of passing it to the constructor\n",
      "Model: \"model\"\n_________________________________________________________________\nLayer (type)                 Output Shape              Param #   \n=================================================================\ninput_1 (InputLayer)         [(None, 224, 224, 1)]     0         \n_________________________________________________________________\nconv2d (Conv2D)              (None, 54, 54, 96)        11712     \n_________________________________________________________________\nconv2d_1 (Conv2D)            (None, 54, 54, 96)        9312      \n_________________________________________________________________\nconv2d_2 (Conv2D)            (None, 54, 54, 96)        9312      \n_________________________________________________________________\nmax_pooling2d (MaxPooling2D) (None, 26, 26, 96)        0         \n_________________________________________________________________\nconv2d_3 (Conv2D)            (None, 26, 26, 256)       614656    \n_________________________________________________________________\nconv2d_4 (Conv2D)            (None, 26, 26, 256)       65792     \n_________________________________________________________________\nconv2d_5 (Conv2D)            (None, 26, 26, 256)       65792     \n_________________________________________________________________\nmax_pooling2d_1 (MaxPooling2 (None, 12, 12, 256)       0         \n_________________________________________________________________\nconv2d_6 (Conv2D)            (None, 12, 12, 384)       885120    \n_________________________________________________________________\nconv2d_7 (Conv2D)            (None, 12, 12, 384)       147840    \n_________________________________________________________________\nconv2d_8 (Conv2D)            (None, 12, 12, 384)       147840    \n_________________________________________________________________\nmax_pooling2d_2 (MaxPooling2 (None, 5, 5, 384)         0         \n_________________________________________________________________\ndropout (Dropout)            (None, 5, 5, 384)         0         \n_________________________________________________________________\nconv2d_9 (Conv2D)            (None, 5, 5, 10)          34570     \n_________________________________________________________________\nconv2d_10 (Conv2D)           (None, 5, 5, 10)          110       \n_________________________________________________________________\nconv2d_11 (Conv2D)           (None, 5, 5, 10)          110       \n_________________________________________________________________\nglobal_average_pooling2d (Gl (None, 10)                0         \n_________________________________________________________________\nflatten (Flatten)            (None, 10)                0         \n=================================================================\nTotal params: 1,992,166\nTrainable params: 1,992,166\nNon-trainable params: 0\n_________________________________________________________________\n"
     ],
     "output_type": "stream"
    }
   ],
   "source": [
    "inputs = tf.keras.layers.Input((224, 224, 1))\n",
    "x = nin_block(96, (11, 11), strides=4, padding='valid')(inputs)\n",
    "x = tf.keras.layers.MaxPool2D(3, strides=2)(x)\n",
    "x = nin_block(256, (5, 5), strides=1, padding='same')(x)\n",
    "x = tf.keras.layers.MaxPool2D(3, strides=2)(x)\n",
    "x = nin_block(384, (3, 3), strides=1, padding='same')(x)\n",
    "x = tf.keras.layers.MaxPool2D(3, strides=2)(x)\n",
    "x = tf.keras.layers.Dropout(0.5)(x)\n",
    "x = nin_block(10, (3, 3), strides=1, padding='same')(x)\n",
    "x = tf.keras.layers.GlobalAveragePooling2D()(x)\n",
    "x = tf.keras.layers.Flatten()(x)\n",
    "\n",
    "model = tf.keras.Model(inputs, x)\n",
    "model.summary()"
   ],
   "metadata": {
    "collapsed": false,
    "pycharm": {
     "name": "#%%\n",
     "is_executing": false
    }
   }
  },
  {
   "cell_type": "markdown",
   "source": [
    "### 5.8.3 获取数据和训练模型\n",
    "(略)"
   ],
   "metadata": {
    "collapsed": false,
    "pycharm": {
     "name": "#%% md\n"
    }
   }
  }
 ],
 "metadata": {
  "kernelspec": {
   "display_name": "Python 3",
   "language": "python",
   "name": "python3"
  },
  "language_info": {
   "codemirror_mode": {
    "name": "ipython",
    "version": 2
   },
   "file_extension": ".py",
   "mimetype": "text/x-python",
   "name": "python",
   "nbconvert_exporter": "python",
   "pygments_lexer": "ipython2",
   "version": "2.7.6"
  },
  "pycharm": {
   "stem_cell": {
    "cell_type": "raw",
    "source": [],
    "metadata": {
     "collapsed": false
    }
   }
  }
 },
 "nbformat": 4,
 "nbformat_minor": 0
}