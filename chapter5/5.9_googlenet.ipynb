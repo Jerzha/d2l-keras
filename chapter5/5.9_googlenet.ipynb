{
 "cells": [
  {
   "cell_type": "markdown",
   "metadata": {
    "collapsed": true,
    "pycharm": {
     "name": "#%% md\n"
    }
   },
   "source": [
    "## 5.9 含并行连结的网络（GoogLeNet）\n",
    "\n",
    "### 5.9.1 Inception 块"
   ]
  },
  {
   "cell_type": "code",
   "execution_count": 14,
   "outputs": [],
   "source": [
    "import tensorflow as tf\n",
    "from livelossplot.keras import PlotLossesCallback"
   ],
   "metadata": {
    "collapsed": false,
    "pycharm": {
     "name": "#%%\n",
     "is_executing": false
    }
   }
  },
  {
   "cell_type": "code",
   "execution_count": 15,
   "outputs": [],
   "source": [
    "class Inception(tf.keras.layers.Layer):\n",
    "    # c1 - c4为每条线路里的层的输出通道数\n",
    "    def __init__(self, c1, c2, c3, c4, trainable=True, name=None, dtype=None, dynamic=False, **kwargs):\n",
    "        super(Inception, self).__init__(trainable, name, dtype, dynamic, **kwargs)\n",
    "        # 线路1，单1 x 1卷积层\n",
    "        self.p1_1 = tf.keras.layers.Conv2D(c1, (1, 1), activation='relu')\n",
    "        # 线路2，1 x 1卷积层后接3 x 3卷积层\n",
    "        self.p2_1 = tf.keras.layers.Conv2D(c2[0], (1, 1), activation='relu')\n",
    "        self.p2_2 = tf.keras.layers.Conv2D(c2[1], (3, 3), padding='same', activation='relu')\n",
    "        # 线路3，1 x 1卷积层后接5 x 5卷积层\n",
    "        self.p3_1 = tf.keras.layers.Conv2D(c3[0], (1, 1), activation='relu')\n",
    "        self.p3_2 = tf.keras.layers.Conv2D(c3[1], (5, 5), padding='same', activation='relu')\n",
    "        # 线路4，3 x 3最大池化层后接1 x 1卷积层\n",
    "        self.p4_1 = tf.keras.layers.MaxPool2D(3, strides=1, padding='same')\n",
    "        self.p4_2 = tf.keras.layers.Conv2D(c4, (1, 1), activation='relu')\n",
    "        \n",
    "    def call(self, inputs, **kwargs):\n",
    "        p1 = self.p1_1(inputs)\n",
    "        p2 = self.p2_2(self.p2_1(inputs))\n",
    "        p3 = self.p3_2(self.p3_1(inputs))\n",
    "        p4 = self.p4_2(self.p4_1(inputs))\n",
    "        return tf.keras.backend.concatenate([p1, p2, p3, p4], axis=-1)\n",
    "    "
   ],
   "metadata": {
    "collapsed": false,
    "pycharm": {
     "name": "#%%\n",
     "is_executing": false
    }
   }
  },
  {
   "cell_type": "markdown",
   "source": [
    "### 5.9.2. GoogLeNet模型"
   ],
   "metadata": {
    "collapsed": false,
    "pycharm": {
     "name": "#%% md\n"
    }
   }
  },
  {
   "cell_type": "code",
   "execution_count": 16,
   "outputs": [],
   "source": [
    "inputs = tf.keras.layers.Input((28, 28, 1))\n",
    "a = tf.keras.layers.Lambda(lambda img: tf.image.resize(img, (96, 96)))(inputs)\n",
    "\n",
    "b1 = tf.keras.layers.Conv2D(64, (7, 7), strides=2, padding='same', activation='relu')(a)\n",
    "b1 = tf.keras.layers.MaxPool2D(3, strides=2, padding='same')(b1)\n",
    "        "
   ],
   "metadata": {
    "collapsed": false,
    "pycharm": {
     "name": "#%%\n",
     "is_executing": false
    }
   }
  },
  {
   "cell_type": "code",
   "execution_count": 17,
   "outputs": [],
   "source": [
    "b2 = tf.keras.layers.Conv2D(64, (1, 1), activation='relu')(b1)\n",
    "b2 = tf.keras.layers.Conv2D(192, (3, 3), padding='same', activation='relu')(b2)\n",
    "b2 = tf.keras.layers.MaxPool2D(3, strides=2, padding='same')(b2)"
   ],
   "metadata": {
    "collapsed": false,
    "pycharm": {
     "name": "#%%\n",
     "is_executing": false
    }
   }
  },
  {
   "cell_type": "code",
   "execution_count": 18,
   "outputs": [
    {
     "name": "stdout",
     "text": [
      "WARNING:tensorflow:Entity <bound method Inception.call of <__main__.Inception object at 0x140909d30>> could not be transformed and will be executed as-is. Please report this to the AutgoGraph team. When filing the bug, set the verbosity to 10 (on Linux, `export AUTOGRAPH_VERBOSITY=10`) and attach the full output. Cause: converting <bound method Inception.call of <__main__.Inception object at 0x140909d30>>: AssertionError: Bad argument number for Name: 3, expecting 4\n",
      "WARNING: Entity <bound method Inception.call of <__main__.Inception object at 0x140909d30>> could not be transformed and will be executed as-is. Please report this to the AutgoGraph team. When filing the bug, set the verbosity to 10 (on Linux, `export AUTOGRAPH_VERBOSITY=10`) and attach the full output. Cause: converting <bound method Inception.call of <__main__.Inception object at 0x140909d30>>: AssertionError: Bad argument number for Name: 3, expecting 4\nWARNING:tensorflow:Entity <bound method Inception.call of <__main__.Inception object at 0x140909908>> could not be transformed and will be executed as-is. Please report this to the AutgoGraph team. When filing the bug, set the verbosity to 10 (on Linux, `export AUTOGRAPH_VERBOSITY=10`) and attach the full output. Cause: converting <bound method Inception.call of <__main__.Inception object at 0x140909908>>: AssertionError: Bad argument number for Name: 3, expecting 4\n",
      "WARNING: Entity <bound method Inception.call of <__main__.Inception object at 0x140909908>> could not be transformed and will be executed as-is. Please report this to the AutgoGraph team. When filing the bug, set the verbosity to 10 (on Linux, `export AUTOGRAPH_VERBOSITY=10`) and attach the full output. Cause: converting <bound method Inception.call of <__main__.Inception object at 0x140909908>>: AssertionError: Bad argument number for Name: 3, expecting 4\n"
     ],
     "output_type": "stream"
    }
   ],
   "source": [
    "b3 = Inception(64, (96, 128), (16, 32), 32)(b2)\n",
    "b3 = Inception(128, (128, 192), (32, 96), 64)(b3)\n",
    "b3 = tf.keras.layers.MaxPool2D(3, strides=2, padding='same')(b3)"
   ],
   "metadata": {
    "collapsed": false,
    "pycharm": {
     "name": "#%%\n",
     "is_executing": false
    }
   }
  },
  {
   "cell_type": "code",
   "execution_count": 19,
   "outputs": [
    {
     "name": "stdout",
     "text": [
      "WARNING:tensorflow:Entity <bound method Inception.call of <__main__.Inception object at 0x1414b3fd0>> could not be transformed and will be executed as-is. Please report this to the AutgoGraph team. When filing the bug, set the verbosity to 10 (on Linux, `export AUTOGRAPH_VERBOSITY=10`) and attach the full output. Cause: converting <bound method Inception.call of <__main__.Inception object at 0x1414b3fd0>>: AssertionError: Bad argument number for Name: 3, expecting 4\n",
      "WARNING: Entity <bound method Inception.call of <__main__.Inception object at 0x1414b3fd0>> could not be transformed and will be executed as-is. Please report this to the AutgoGraph team. When filing the bug, set the verbosity to 10 (on Linux, `export AUTOGRAPH_VERBOSITY=10`) and attach the full output. Cause: converting <bound method Inception.call of <__main__.Inception object at 0x1414b3fd0>>: AssertionError: Bad argument number for Name: 3, expecting 4\n",
      "WARNING:tensorflow:Entity <bound method Inception.call of <__main__.Inception object at 0x1414b3f28>> could not be transformed and will be executed as-is. Please report this to the AutgoGraph team. When filing the bug, set the verbosity to 10 (on Linux, `export AUTOGRAPH_VERBOSITY=10`) and attach the full output. Cause: converting <bound method Inception.call of <__main__.Inception object at 0x1414b3f28>>: AssertionError: Bad argument number for Name: 3, expecting 4\n",
      "WARNING: Entity <bound method Inception.call of <__main__.Inception object at 0x1414b3f28>> could not be transformed and will be executed as-is. Please report this to the AutgoGraph team. When filing the bug, set the verbosity to 10 (on Linux, `export AUTOGRAPH_VERBOSITY=10`) and attach the full output. Cause: converting <bound method Inception.call of <__main__.Inception object at 0x1414b3f28>>: AssertionError: Bad argument number for Name: 3, expecting 4\n",
      "WARNING:tensorflow:Entity <bound method Inception.call of <__main__.Inception object at 0x141641518>> could not be transformed and will be executed as-is. Please report this to the AutgoGraph team. When filing the bug, set the verbosity to 10 (on Linux, `export AUTOGRAPH_VERBOSITY=10`) and attach the full output. Cause: converting <bound method Inception.call of <__main__.Inception object at 0x141641518>>: AssertionError: Bad argument number for Name: 3, expecting 4\n",
      "WARNING: Entity <bound method Inception.call of <__main__.Inception object at 0x141641518>> could not be transformed and will be executed as-is. Please report this to the AutgoGraph team. When filing the bug, set the verbosity to 10 (on Linux, `export AUTOGRAPH_VERBOSITY=10`) and attach the full output. Cause: converting <bound method Inception.call of <__main__.Inception object at 0x141641518>>: AssertionError: Bad argument number for Name: 3, expecting 4\nWARNING:tensorflow:Entity <bound method Inception.call of <__main__.Inception object at 0x141638b00>> could not be transformed and will be executed as-is. Please report this to the AutgoGraph team. When filing the bug, set the verbosity to 10 (on Linux, `export AUTOGRAPH_VERBOSITY=10`) and attach the full output. Cause: converting <bound method Inception.call of <__main__.Inception object at 0x141638b00>>: AssertionError: Bad argument number for Name: 3, expecting 4\n",
      "WARNING: Entity <bound method Inception.call of <__main__.Inception object at 0x141638b00>> could not be transformed and will be executed as-is. Please report this to the AutgoGraph team. When filing the bug, set the verbosity to 10 (on Linux, `export AUTOGRAPH_VERBOSITY=10`) and attach the full output. Cause: converting <bound method Inception.call of <__main__.Inception object at 0x141638b00>>: AssertionError: Bad argument number for Name: 3, expecting 4\n",
      "WARNING:tensorflow:Entity <bound method Inception.call of <__main__.Inception object at 0x1414de9b0>> could not be transformed and will be executed as-is. Please report this to the AutgoGraph team. When filing the bug, set the verbosity to 10 (on Linux, `export AUTOGRAPH_VERBOSITY=10`) and attach the full output. Cause: converting <bound method Inception.call of <__main__.Inception object at 0x1414de9b0>>: AssertionError: Bad argument number for Name: 3, expecting 4\n",
      "WARNING: Entity <bound method Inception.call of <__main__.Inception object at 0x1414de9b0>> could not be transformed and will be executed as-is. Please report this to the AutgoGraph team. When filing the bug, set the verbosity to 10 (on Linux, `export AUTOGRAPH_VERBOSITY=10`) and attach the full output. Cause: converting <bound method Inception.call of <__main__.Inception object at 0x1414de9b0>>: AssertionError: Bad argument number for Name: 3, expecting 4\n"
     ],
     "output_type": "stream"
    }
   ],
   "source": [
    "b4 = Inception(192, (96, 208), (16, 48), 64)(b3)\n",
    "b4 = Inception(160, (112, 224), (24, 64), 64)(b4)\n",
    "b4 = Inception(128, (128, 256), (24, 64), 64)(b4)\n",
    "b4 = Inception(112, (144, 288), (32, 64), 64)(b4)\n",
    "b4 = Inception(256, (160, 320), (32, 128), 128)(b4)\n",
    "b4 = tf.keras.layers.MaxPool2D(3, strides=2, padding='same')(b4)"
   ],
   "metadata": {
    "collapsed": false,
    "pycharm": {
     "name": "#%%\n",
     "is_executing": false
    }
   }
  },
  {
   "cell_type": "code",
   "execution_count": 20,
   "outputs": [
    {
     "name": "stdout",
     "text": [
      "WARNING:tensorflow:Entity <bound method Inception.call of <__main__.Inception object at 0x141363f28>> could not be transformed and will be executed as-is. Please report this to the AutgoGraph team. When filing the bug, set the verbosity to 10 (on Linux, `export AUTOGRAPH_VERBOSITY=10`) and attach the full output. Cause: converting <bound method Inception.call of <__main__.Inception object at 0x141363f28>>: AssertionError: Bad argument number for Name: 3, expecting 4\n",
      "WARNING: Entity <bound method Inception.call of <__main__.Inception object at 0x141363f28>> could not be transformed and will be executed as-is. Please report this to the AutgoGraph team. When filing the bug, set the verbosity to 10 (on Linux, `export AUTOGRAPH_VERBOSITY=10`) and attach the full output. Cause: converting <bound method Inception.call of <__main__.Inception object at 0x141363f28>>: AssertionError: Bad argument number for Name: 3, expecting 4\n",
      "WARNING:tensorflow:Entity <bound method Inception.call of <__main__.Inception object at 0x141363ac8>> could not be transformed and will be executed as-is. Please report this to the AutgoGraph team. When filing the bug, set the verbosity to 10 (on Linux, `export AUTOGRAPH_VERBOSITY=10`) and attach the full output. Cause: converting <bound method Inception.call of <__main__.Inception object at 0x141363ac8>>: AssertionError: Bad argument number for Name: 3, expecting 4\n",
      "WARNING: Entity <bound method Inception.call of <__main__.Inception object at 0x141363ac8>> could not be transformed and will be executed as-is. Please report this to the AutgoGraph team. When filing the bug, set the verbosity to 10 (on Linux, `export AUTOGRAPH_VERBOSITY=10`) and attach the full output. Cause: converting <bound method Inception.call of <__main__.Inception object at 0x141363ac8>>: AssertionError: Bad argument number for Name: 3, expecting 4\n"
     ],
     "output_type": "stream"
    }
   ],
   "source": [
    "b5 = Inception(256, (160, 320), (32, 128), 128)(b4)\n",
    "b5 = Inception(384, (192, 384), (48, 128), 128)(b5)\n",
    "b5 = tf.keras.layers.GlobalAvgPool2D()(b5)\n",
    "\n",
    "net = tf.keras.layers.Dense(10)(b5)\n",
    "model = tf.keras.Model(inputs, net)"
   ],
   "metadata": {
    "collapsed": false,
    "pycharm": {
     "name": "#%%\n",
     "is_executing": false
    }
   }
  },
  {
   "cell_type": "code",
   "execution_count": 21,
   "outputs": [
    {
     "name": "stdout",
     "text": [
      "Model: \"model\"\n_________________________________________________________________\nLayer (type)                 Output Shape              Param #   \n=================================================================\ninput_3 (InputLayer)         [(None, 96, 96, 2)]       0         \n_________________________________________________________________\nconv2d_24 (Conv2D)           (None, 48, 48, 64)        6336      \n_________________________________________________________________\nmax_pooling2d_8 (MaxPooling2 (None, 24, 24, 64)        0         \n_________________________________________________________________\nconv2d_25 (Conv2D)           (None, 24, 24, 64)        4160      \n_________________________________________________________________\nconv2d_26 (Conv2D)           (None, 24, 24, 192)       110784    \n_________________________________________________________________\nmax_pooling2d_9 (MaxPooling2 (None, 12, 12, 192)       0         \n_________________________________________________________________\ninception_3 (Inception)      (None, 12, 12, 256)       163696    \n_________________________________________________________________\ninception_4 (Inception)      (None, 12, 12, 480)       388736    \n_________________________________________________________________\nmax_pooling2d_12 (MaxPooling (None, 6, 6, 480)         0         \n_________________________________________________________________\ninception_5 (Inception)      (None, 6, 6, 512)         376176    \n_________________________________________________________________\ninception_6 (Inception)      (None, 6, 6, 512)         449160    \n_________________________________________________________________\ninception_7 (Inception)      (None, 6, 6, 512)         510104    \n_________________________________________________________________\ninception_8 (Inception)      (None, 6, 6, 528)         605376    \n_________________________________________________________________\ninception_9 (Inception)      (None, 6, 6, 832)         868352    \n_________________________________________________________________\nmax_pooling2d_18 (MaxPooling (None, 3, 3, 832)         0         \n_________________________________________________________________\ninception_10 (Inception)     (None, 3, 3, 832)         1043456   \n_________________________________________________________________\ninception_11 (Inception)     (None, 3, 3, 1024)        1444080   \n_________________________________________________________________\nglobal_average_pooling2d (Gl (None, 1024)              0         \n_________________________________________________________________\ndense (Dense)                (None, 10)                10250     \n=================================================================\nTotal params: 5,980,666\nTrainable params: 5,980,666\nNon-trainable params: 0\n_________________________________________________________________\n"
     ],
     "output_type": "stream"
    }
   ],
   "source": [
    "model.summary()"
   ],
   "metadata": {
    "collapsed": false,
    "pycharm": {
     "name": "#%%\n",
     "is_executing": false
    }
   }
  },
  {
   "cell_type": "code",
   "execution_count": null,
   "outputs": [],
   "source": [
    "(x_train, y_train), (x_test, y_test) = tf.keras.datasets.fashion_mnist.load_data()\n",
    "x_train = x_train / 255.\n",
    "x_train = x_train.reshape(x_train.shape[0], 28, 28, 1)"
   ],
   "metadata": {
    "collapsed": false,
    "pycharm": {
     "name": "#%%\n"
    }
   }
  },
  {
   "cell_type": "code",
   "execution_count": null,
   "outputs": [],
   "source": [
    "model.compile(optimizer=tf.keras.optimizers.Adam(lr=0.001), \n",
    "              loss=tf.keras.losses.sparse_categorical_crossentropy)\n",
    "              #metrics=[d2l.metric_accuracy])\n",
    "\n",
    "model.fit(x_train, y_train, epochs=5, batch_size=128, \n",
    "          callbacks=[PlotLossesCallback()])"
   ],
   "metadata": {
    "collapsed": false,
    "pycharm": {
     "name": "#%%\n"
    }
   }
  }
 ],
 "metadata": {
  "kernelspec": {
   "display_name": "Python 3",
   "language": "python",
   "name": "python3"
  },
  "language_info": {
   "codemirror_mode": {
    "name": "ipython",
    "version": 2
   },
   "file_extension": ".py",
   "mimetype": "text/x-python",
   "name": "python",
   "nbconvert_exporter": "python",
   "pygments_lexer": "ipython2",
   "version": "2.7.6"
  },
  "pycharm": {
   "stem_cell": {
    "cell_type": "raw",
    "source": [],
    "metadata": {
     "collapsed": false
    }
   }
  }
 },
 "nbformat": 4,
 "nbformat_minor": 0
}