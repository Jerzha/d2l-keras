{
 "cells": [
  {
   "cell_type": "markdown",
   "metadata": {
    "pycharm": {
     "name": "#%% md\n"
    }
   },
   "source": [
    "## 5.9 含并行连结的网络（GoogLeNet）\n",
    "\n",
    "### 5.9.1 Inception 块"
   ]
  },
  {
   "cell_type": "code",
   "execution_count": 1,
   "metadata": {
    "collapsed": false,
    "jupyter": {
     "outputs_hidden": false
    },
    "pycharm": {
     "is_executing": false,
     "name": "#%%\n"
    }
   },
   "outputs": [],
   "source": [
    "import tensorflow as tf\n",
    "from livelossplot.tf_keras import PlotLossesCallback"
   ]
  },
  {
   "cell_type": "code",
   "execution_count": 2,
   "metadata": {
    "collapsed": false,
    "jupyter": {
     "outputs_hidden": false
    },
    "pycharm": {
     "is_executing": false,
     "name": "#%%\n"
    }
   },
   "outputs": [],
   "source": [
    "class Inception(tf.keras.layers.Layer):\n",
    "    # c1 - c4为每条线路里的层的输出通道数\n",
    "    def __init__(self, c1, c2, c3, c4, trainable=True, name=None, dtype=None, dynamic=False, **kwargs):\n",
    "        super(Inception, self).__init__(trainable, name, dtype, dynamic, **kwargs)\n",
    "        # 线路1，单1 x 1卷积层\n",
    "        self.p1_1 = tf.keras.layers.Conv2D(c1, (1, 1), activation='relu')\n",
    "        # 线路2，1 x 1卷积层后接3 x 3卷积层\n",
    "        self.p2_1 = tf.keras.layers.Conv2D(c2[0], (1, 1), activation='relu')\n",
    "        self.p2_2 = tf.keras.layers.Conv2D(c2[1], (3, 3), padding='same', activation='relu')\n",
    "        # 线路3，1 x 1卷积层后接5 x 5卷积层\n",
    "        self.p3_1 = tf.keras.layers.Conv2D(c3[0], (1, 1), activation='relu')\n",
    "        self.p3_2 = tf.keras.layers.Conv2D(c3[1], (5, 5), padding='same', activation='relu')\n",
    "        # 线路4，3 x 3最大池化层后接1 x 1卷积层\n",
    "        self.p4_1 = tf.keras.layers.MaxPool2D(3, strides=1, padding='same')\n",
    "        self.p4_2 = tf.keras.layers.Conv2D(c4, (1, 1), activation='relu')\n",
    "        \n",
    "    def call(self, inputs, **kwargs):\n",
    "        p1 = self.p1_1(inputs)\n",
    "        p2 = self.p2_2(self.p2_1(inputs))\n",
    "        p3 = self.p3_2(self.p3_1(inputs))\n",
    "        p4 = self.p4_2(self.p4_1(inputs))\n",
    "        return tf.keras.backend.concatenate([p1, p2, p3, p4], axis=-1)\n",
    "    "
   ]
  },
  {
   "cell_type": "markdown",
   "metadata": {
    "pycharm": {
     "name": "#%% md\n"
    }
   },
   "source": [
    "### 5.9.2. GoogLeNet模型"
   ]
  },
  {
   "cell_type": "code",
   "execution_count": 3,
   "metadata": {
    "collapsed": false,
    "jupyter": {
     "outputs_hidden": false
    },
    "pycharm": {
     "is_executing": false,
     "name": "#%%\n"
    }
   },
   "outputs": [
    {
     "name": "stderr",
     "output_type": "stream",
     "text": [
      "WARNING: Logging before flag parsing goes to stderr.\n",
      "W1019 18:39:41.212857 140440249939776 deprecation.py:506] From /usr/local/lib/python3.6/dist-packages/tensorflow/python/ops/init_ops.py:1251: calling VarianceScaling.__init__ (from tensorflow.python.ops.init_ops) with dtype is deprecated and will be removed in a future version.\n",
      "Instructions for updating:\n",
      "Call initializer instance with the dtype argument instead of passing it to the constructor\n"
     ]
    }
   ],
   "source": [
    "inputs = tf.keras.layers.Input((28, 28, 1))\n",
    "a = tf.keras.layers.Lambda(lambda img: tf.image.resize(img, (96, 96)))(inputs)\n",
    "\n",
    "b1 = tf.keras.layers.Conv2D(64, (7, 7), strides=2, padding='same', activation='relu')(a)\n",
    "b1 = tf.keras.layers.MaxPool2D(3, strides=2, padding='same')(b1)\n",
    "        "
   ]
  },
  {
   "cell_type": "code",
   "execution_count": 4,
   "metadata": {
    "collapsed": false,
    "jupyter": {
     "outputs_hidden": false
    },
    "pycharm": {
     "is_executing": false,
     "name": "#%%\n"
    }
   },
   "outputs": [],
   "source": [
    "b2 = tf.keras.layers.Conv2D(64, (1, 1), activation='relu')(b1)\n",
    "b2 = tf.keras.layers.Conv2D(192, (3, 3), padding='same', activation='relu')(b2)\n",
    "b2 = tf.keras.layers.MaxPool2D(3, strides=2, padding='same')(b2)"
   ]
  },
  {
   "cell_type": "code",
   "execution_count": 5,
   "metadata": {
    "collapsed": false,
    "jupyter": {
     "outputs_hidden": false
    },
    "pycharm": {
     "is_executing": false,
     "name": "#%%\n"
    }
   },
   "outputs": [],
   "source": [
    "b3 = Inception(64, (96, 128), (16, 32), 32)(b2)\n",
    "b3 = Inception(128, (128, 192), (32, 96), 64)(b3)\n",
    "b3 = tf.keras.layers.MaxPool2D(3, strides=2, padding='same')(b3)"
   ]
  },
  {
   "cell_type": "code",
   "execution_count": 6,
   "metadata": {
    "collapsed": false,
    "jupyter": {
     "outputs_hidden": false
    },
    "pycharm": {
     "is_executing": false,
     "name": "#%%\n"
    }
   },
   "outputs": [],
   "source": [
    "b4 = Inception(192, (96, 208), (16, 48), 64)(b3)\n",
    "b4 = Inception(160, (112, 224), (24, 64), 64)(b4)\n",
    "b4 = Inception(128, (128, 256), (24, 64), 64)(b4)\n",
    "b4 = Inception(112, (144, 288), (32, 64), 64)(b4)\n",
    "b4 = Inception(256, (160, 320), (32, 128), 128)(b4)\n",
    "b4 = tf.keras.layers.MaxPool2D(3, strides=2, padding='same')(b4)"
   ]
  },
  {
   "cell_type": "code",
   "execution_count": 7,
   "metadata": {
    "collapsed": false,
    "jupyter": {
     "outputs_hidden": false
    },
    "pycharm": {
     "is_executing": false,
     "name": "#%%\n"
    }
   },
   "outputs": [],
   "source": [
    "b5 = Inception(256, (160, 320), (32, 128), 128)(b4)\n",
    "b5 = Inception(384, (192, 384), (48, 128), 128)(b5)\n",
    "b5 = tf.keras.layers.GlobalAvgPool2D()(b5)\n",
    "\n",
    "net = tf.keras.layers.Dense(10)(b5)\n",
    "net = tf.keras.layers.Softmax()(net)\n",
    "model = tf.keras.Model(inputs, net)"
   ]
  },
  {
   "cell_type": "code",
   "execution_count": 8,
   "metadata": {
    "collapsed": false,
    "jupyter": {
     "outputs_hidden": false
    },
    "pycharm": {
     "is_executing": false,
     "name": "#%%\n"
    }
   },
   "outputs": [
    {
     "name": "stdout",
     "output_type": "stream",
     "text": [
      "Model: \"model\"\n",
      "_________________________________________________________________\n",
      "Layer (type)                 Output Shape              Param #   \n",
      "=================================================================\n",
      "input_1 (InputLayer)         [(None, 28, 28, 1)]       0         \n",
      "_________________________________________________________________\n",
      "lambda (Lambda)              (None, 96, 96, 1)         0         \n",
      "_________________________________________________________________\n",
      "conv2d (Conv2D)              (None, 48, 48, 64)        3200      \n",
      "_________________________________________________________________\n",
      "max_pooling2d (MaxPooling2D) (None, 24, 24, 64)        0         \n",
      "_________________________________________________________________\n",
      "conv2d_1 (Conv2D)            (None, 24, 24, 64)        4160      \n",
      "_________________________________________________________________\n",
      "conv2d_2 (Conv2D)            (None, 24, 24, 192)       110784    \n",
      "_________________________________________________________________\n",
      "max_pooling2d_1 (MaxPooling2 (None, 12, 12, 192)       0         \n",
      "_________________________________________________________________\n",
      "inception (Inception)        (None, 12, 12, 256)       163696    \n",
      "_________________________________________________________________\n",
      "inception_1 (Inception)      (None, 12, 12, 480)       388736    \n",
      "_________________________________________________________________\n",
      "max_pooling2d_4 (MaxPooling2 (None, 6, 6, 480)         0         \n",
      "_________________________________________________________________\n",
      "inception_2 (Inception)      (None, 6, 6, 512)         376176    \n",
      "_________________________________________________________________\n",
      "inception_3 (Inception)      (None, 6, 6, 512)         449160    \n",
      "_________________________________________________________________\n",
      "inception_4 (Inception)      (None, 6, 6, 512)         510104    \n",
      "_________________________________________________________________\n",
      "inception_5 (Inception)      (None, 6, 6, 528)         605376    \n",
      "_________________________________________________________________\n",
      "inception_6 (Inception)      (None, 6, 6, 832)         868352    \n",
      "_________________________________________________________________\n",
      "max_pooling2d_10 (MaxPooling (None, 3, 3, 832)         0         \n",
      "_________________________________________________________________\n",
      "inception_7 (Inception)      (None, 3, 3, 832)         1043456   \n",
      "_________________________________________________________________\n",
      "inception_8 (Inception)      (None, 3, 3, 1024)        1444080   \n",
      "_________________________________________________________________\n",
      "global_average_pooling2d (Gl (None, 1024)              0         \n",
      "_________________________________________________________________\n",
      "dense (Dense)                (None, 10)                10250     \n",
      "_________________________________________________________________\n",
      "softmax (Softmax)            (None, 10)                0         \n",
      "=================================================================\n",
      "Total params: 5,977,530\n",
      "Trainable params: 5,977,530\n",
      "Non-trainable params: 0\n",
      "_________________________________________________________________\n"
     ]
    }
   ],
   "source": [
    "model.summary()"
   ]
  },
  {
   "cell_type": "code",
   "execution_count": 9,
   "metadata": {
    "collapsed": false,
    "jupyter": {
     "outputs_hidden": false
    },
    "pycharm": {
     "name": "#%%\n"
    }
   },
   "outputs": [],
   "source": [
    "(x_train, y_train), (x_test, y_test) = tf.keras.datasets.fashion_mnist.load_data()\n",
    "x_train = x_train / 255.\n",
    "x_train = x_train.reshape(x_train.shape[0], 28, 28, 1)"
   ]
  },
  {
   "cell_type": "code",
   "execution_count": null,
   "metadata": {
    "collapsed": false,
    "jupyter": {
     "outputs_hidden": false
    },
    "pycharm": {
     "name": "#%%\n"
    }
   },
   "outputs": [
    {
     "name": "stdout",
     "output_type": "stream",
     "text": [
      "Epoch 1/5\n"
     ]
    }
   ],
   "source": [
    "model.compile(optimizer=tf.keras.optimizers.Adam(lr=0.001), \n",
    "              loss=tf.keras.losses.sparse_categorical_crossentropy)\n",
    "              #metrics=[d2l.metric_accuracy])\n",
    "\n",
    "model.fit(x_train, y_train, epochs=5, batch_size=128, \n",
    "          callbacks=[PlotLossesCallback()])"
   ]
  }
 ],
 "metadata": {
  "kernelspec": {
   "display_name": "Python 3",
   "language": "python",
   "name": "python3"
  },
  "language_info": {
   "codemirror_mode": {
    "name": "ipython",
    "version": 3
   },
   "file_extension": ".py",
   "mimetype": "text/x-python",
   "name": "python",
   "nbconvert_exporter": "python",
   "pygments_lexer": "ipython3",
   "version": "3.6.8"
  },
  "pycharm": {
   "stem_cell": {
    "cell_type": "raw",
    "metadata": {
     "collapsed": false
    },
    "source": []
   }
  }
 },
 "nbformat": 4,
 "nbformat_minor": 4
}
