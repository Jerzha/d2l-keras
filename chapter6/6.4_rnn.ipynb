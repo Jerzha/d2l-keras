{
 "cells": [
  {
   "cell_type": "markdown",
   "metadata": {
    "collapsed": true,
    "pycharm": {
     "name": "#%% md\n"
    }
   },
   "source": [
    "## 6.4. 循环神经网络的从零开始实现"
   ]
  },
  {
   "cell_type": "code",
   "execution_count": 1,
   "outputs": [
    {
     "name": "stderr",
     "text": [
      "/usr/local/lib/python3.6/site-packages/tensorflow/python/framework/dtypes.py:516: FutureWarning: Passing (type, 1) or '1type' as a synonym of type is deprecated; in a future version of numpy, it will be understood as (type, (1,)) / '(1,)type'.\n  _np_qint8 = np.dtype([(\"qint8\", np.int8, 1)])\n/usr/local/lib/python3.6/site-packages/tensorflow/python/framework/dtypes.py:517: FutureWarning: Passing (type, 1) or '1type' as a synonym of type is deprecated; in a future version of numpy, it will be understood as (type, (1,)) / '(1,)type'.\n  _np_quint8 = np.dtype([(\"quint8\", np.uint8, 1)])\n/usr/local/lib/python3.6/site-packages/tensorflow/python/framework/dtypes.py:518: FutureWarning: Passing (type, 1) or '1type' as a synonym of type is deprecated; in a future version of numpy, it will be understood as (type, (1,)) / '(1,)type'.\n  _np_qint16 = np.dtype([(\"qint16\", np.int16, 1)])\n/usr/local/lib/python3.6/site-packages/tensorflow/python/framework/dtypes.py:519: FutureWarning: Passing (type, 1) or '1type' as a synonym of type is deprecated; in a future version of numpy, it will be understood as (type, (1,)) / '(1,)type'.\n  _np_quint16 = np.dtype([(\"quint16\", np.uint16, 1)])\n/usr/local/lib/python3.6/site-packages/tensorflow/python/framework/dtypes.py:520: FutureWarning: Passing (type, 1) or '1type' as a synonym of type is deprecated; in a future version of numpy, it will be understood as (type, (1,)) / '(1,)type'.\n  _np_qint32 = np.dtype([(\"qint32\", np.int32, 1)])\n/usr/local/lib/python3.6/site-packages/tensorflow/python/framework/dtypes.py:525: FutureWarning: Passing (type, 1) or '1type' as a synonym of type is deprecated; in a future version of numpy, it will be understood as (type, (1,)) / '(1,)type'.\n  np_resource = np.dtype([(\"resource\", np.ubyte, 1)])\n",
      "/usr/local/lib/python3.6/site-packages/tensorboard/compat/tensorflow_stub/dtypes.py:541: FutureWarning: Passing (type, 1) or '1type' as a synonym of type is deprecated; in a future version of numpy, it will be understood as (type, (1,)) / '(1,)type'.\n  _np_qint8 = np.dtype([(\"qint8\", np.int8, 1)])\n/usr/local/lib/python3.6/site-packages/tensorboard/compat/tensorflow_stub/dtypes.py:542: FutureWarning: Passing (type, 1) or '1type' as a synonym of type is deprecated; in a future version of numpy, it will be understood as (type, (1,)) / '(1,)type'.\n  _np_quint8 = np.dtype([(\"quint8\", np.uint8, 1)])\n/usr/local/lib/python3.6/site-packages/tensorboard/compat/tensorflow_stub/dtypes.py:543: FutureWarning: Passing (type, 1) or '1type' as a synonym of type is deprecated; in a future version of numpy, it will be understood as (type, (1,)) / '(1,)type'.\n  _np_qint16 = np.dtype([(\"qint16\", np.int16, 1)])\n/usr/local/lib/python3.6/site-packages/tensorboard/compat/tensorflow_stub/dtypes.py:544: FutureWarning: Passing (type, 1) or '1type' as a synonym of type is deprecated; in a future version of numpy, it will be understood as (type, (1,)) / '(1,)type'.\n  _np_quint16 = np.dtype([(\"quint16\", np.uint16, 1)])\n/usr/local/lib/python3.6/site-packages/tensorboard/compat/tensorflow_stub/dtypes.py:545: FutureWarning: Passing (type, 1) or '1type' as a synonym of type is deprecated; in a future version of numpy, it will be understood as (type, (1,)) / '(1,)type'.\n  _np_qint32 = np.dtype([(\"qint32\", np.int32, 1)])\n/usr/local/lib/python3.6/site-packages/tensorboard/compat/tensorflow_stub/dtypes.py:550: FutureWarning: Passing (type, 1) or '1type' as a synonym of type is deprecated; in a future version of numpy, it will be understood as (type, (1,)) / '(1,)type'.\n  np_resource = np.dtype([(\"resource\", np.ubyte, 1)])\n"
     ],
     "output_type": "stream"
    }
   ],
   "source": [
    "import d2lzh as d2l\n",
    "import tensorflow as tf\n",
    "import numpy as np\n",
    "from tensorflow import keras\n",
    "import tensorflow.keras.backend as K\n",
    "import time\n",
    "\n",
    "(corpus_indices, corpus_chars, char_to_idx, idx_to_char, vocab_size) = d2l.load_data_jay_lyrics()\n",
    "\n",
    "num_steps = 3 # 通过多少个字预测下一个字"
   ],
   "metadata": {
    "collapsed": false,
    "pycharm": {
     "name": "#%%\n",
     "is_executing": false
    }
   }
  },
  {
   "cell_type": "markdown",
   "source": [
    "### 6.4.1 one-hot向量"
   ],
   "metadata": {
    "collapsed": false,
    "pycharm": {
     "name": "#%% md\n"
    }
   }
  },
  {
   "cell_type": "code",
   "execution_count": 2,
   "outputs": [
    {
     "data": {
      "text/plain": "array([[1., 0., 0., ..., 0., 0., 0.],\n       [0., 0., 1., ..., 0., 0., 0.]], dtype=float32)"
     },
     "metadata": {},
     "output_type": "execute_result",
     "execution_count": 2
    }
   ],
   "source": [
    "keras.utils.to_categorical(np.array([0, 2]), vocab_size)"
   ],
   "metadata": {
    "collapsed": false,
    "pycharm": {
     "name": "#%%\n",
     "is_executing": false
    }
   }
  },
  {
   "cell_type": "markdown",
   "source": [
    "### 6.4.2 初始化模型参数\n",
    "### 6.4.3 定义模型"
   ],
   "metadata": {
    "collapsed": false,
    "pycharm": {
     "name": "#%% md\n"
    }
   }
  },
  {
   "cell_type": "code",
   "execution_count": 3,
   "outputs": [
    {
     "name": "stdout",
     "text": [
      "WARNING:tensorflow:From /usr/local/lib/python3.6/site-packages/tensorflow/python/ops/init_ops.py:1251: calling VarianceScaling.__init__ (from tensorflow.python.ops.init_ops) with dtype is deprecated and will be removed in a future version.\nInstructions for updating:\nCall initializer instance with the dtype argument instead of passing it to the constructor\n"
     ],
     "output_type": "stream"
    }
   ],
   "source": [
    "class RNNModel(keras.Model):\n",
    "    def __init__(self, vocab_size, *args, **kwargs):\n",
    "        super().__init__(*args, **kwargs)\n",
    "        self.rnn = keras.layers.SimpleRNN(256, input_shape=(num_steps, vocab_size))\n",
    "        self.vocab_size = vocab_size\n",
    "        self.dense = keras.layers.Dense(vocab_size)\n",
    "        self.softmax = keras.layers.Softmax()\n",
    "        \n",
    "    def call(self, inputs, training=None, mask=None):\n",
    "        x = self.rnn(inputs)\n",
    "        x = self.dense(x)\n",
    "        x = self.softmax(x)\n",
    "        return x\n",
    "        \n",
    "model = RNNModel(vocab_size)"
   ],
   "metadata": {
    "collapsed": false,
    "pycharm": {
     "name": "#%%\n",
     "is_executing": false
    }
   }
  },
  {
   "cell_type": "code",
   "execution_count": 4,
   "outputs": [],
   "source": [
    "def predict_rnn_gluon(prefix, num_chars, model, vocab_size, idx_to_char, char_to_idx):\n",
    "    output = np.array([char_to_idx[prefix[idx]] for idx in range(len(prefix))])\n",
    "    for t in range(num_chars + len(prefix) - 1):\n",
    "        # print(output)\n",
    "        X = keras.utils.to_categorical(output[-num_steps : ], vocab_size)\n",
    "        # print('X', X.shape, output[-num_steps : ])\n",
    "        Y = model.predict(X.reshape(1, num_steps, vocab_size))  # 引入batch=1维度\n",
    "        if t < len(prefix) - 1:\n",
    "            # output = np.append(output, char_to_idx[prefix[t + 1]])\n",
    "            pass\n",
    "        else:\n",
    "            output = np.append(output, int(Y.argmax(axis=-1)))\n",
    "    return ''.join([idx_to_char[i] for i in output])"
   ],
   "metadata": {
    "collapsed": false,
    "pycharm": {
     "name": "#%%\n",
     "is_executing": false
    }
   }
  },
  {
   "cell_type": "code",
   "execution_count": 5,
   "outputs": [
    {
     "name": "stdout",
     "text": [
      "WARNING:tensorflow:Entity <bound method RNNModel.call of <__main__.RNNModel object at 0x10bc6da20>> could not be transformed and will be executed as-is. Please report this to the AutgoGraph team. When filing the bug, set the verbosity to 10 (on Linux, `export AUTOGRAPH_VERBOSITY=10`) and attach the full output. Cause: converting <bound method RNNModel.call of <__main__.RNNModel object at 0x10bc6da20>>: AssertionError: Bad argument number for Name: 3, expecting 4\n",
      "WARNING: Entity <bound method RNNModel.call of <__main__.RNNModel object at 0x10bc6da20>> could not be transformed and will be executed as-is. Please report this to the AutgoGraph team. When filing the bug, set the verbosity to 10 (on Linux, `export AUTOGRAPH_VERBOSITY=10`) and attach the full output. Cause: converting <bound method RNNModel.call of <__main__.RNNModel object at 0x10bc6da20>>: AssertionError: Bad argument number for Name: 3, expecting 4\n"
     ],
     "output_type": "stream"
    },
    {
     "data": {
      "text/plain": "'分开 强限毫伤春谷驳魂B悔'"
     },
     "metadata": {},
     "output_type": "execute_result",
     "execution_count": 5
    }
   ],
   "source": [
    "predict_rnn_gluon('分开 ', 10, model, vocab_size, idx_to_char, char_to_idx)"
   ],
   "metadata": {
    "collapsed": false,
    "pycharm": {
     "name": "#%%\n",
     "is_executing": false
    }
   }
  },
  {
   "cell_type": "code",
   "execution_count": 6,
   "outputs": [],
   "source": [
    "def train_and_predict_rnn_gluon(model, vocab_size, corpus_indices, idx_to_char, char_to_idx,\n",
    "                                num_epochs, num_steps, lr, clipping_theta,\n",
    "                                batch_size, pred_period, pred_len, prefixes):\n",
    "    model.compile(\n",
    "        optimizer='adam', #keras.optimizers.SGD(learning_rate=lr, momentum=0, decay=0, clipvalue=1), \n",
    "        loss=keras.losses.categorical_crossentropy)\n",
    "    \n",
    "    for epoch in range(num_epochs):\n",
    "        data_iter = d2l.data_iter_consecutive(corpus_indices, batch_size, num_steps)\n",
    "        for X, Y in data_iter:\n",
    "            x = keras.utils.to_categorical(X, vocab_size)\n",
    "            y = keras.utils.to_categorical(Y[:,-1], vocab_size)\n",
    "            #print(x.shape, y.shape)\n",
    "            model.train_on_batch(x.reshape(batch_size, num_steps, vocab_size), y)\n",
    "        \n",
    "        # print(epoch, pred_period)\n",
    "        if (epoch + 1) % pred_period == 0:\n",
    "            for prefix in prefixes:\n",
    "                print(' -', predict_rnn_gluon(\n",
    "                    prefix, pred_len, model, vocab_size, idx_to_char,\n",
    "                    char_to_idx))\n",
    "        "
   ],
   "metadata": {
    "collapsed": false,
    "pycharm": {
     "name": "#%%\n",
     "is_executing": false
    }
   }
  },
  {
   "cell_type": "code",
   "execution_count": 7,
   "outputs": [
    {
     "name": "stdout",
     "text": [
      " - 分开 它动我 到不我都不的 爱放在 年 我一能踢力 快人我篮 这传我 成不都 不到 爱却在的迷 作怎我呆 \n - 不分开 它动我 到不我都不的 爱放在 年 我一能踢力 快人我篮 这传我 成不都 不到 爱却在的迷 作怎我呆\n",
      " - 分开 它可灌木句旁邂办 一 正气 他经儿子 习什么我想睡你 像我法和寞排棒  想穿你你当很 的吧上 我间耍\n - 不分开 它可灌木句旁邂办 一 正气 他经儿子 习什么我想睡你 像我法和寞排棒  想穿你你当很 的吧上 我间\n",
      " - 分开 话可完你人义让 彻道 分三怎话头对你脸依场落  爽穿一驳实气底点经手射去阵堂将吹属 就年开不 口不她\n - 不分开 话可完你人义让 彻道 分三怎话头对你脸依场落  爽穿一驳实气底点经手射去阵堂将吹属 就年开不 口不\n",
      " - 分开 了可去她人将江么 我打我妈妈 难说你笔 我真耍的瞎模   古穿主只层太野试是远力透 奔什么爱我不开不\n - 不分开 了可去她人将江么 我打我妈妈 难说你笔 我真耍的瞎模   古穿主只层太野试是远力透 奔什么爱我不开\n",
      " - 分开 了可去简以爱句 我办定到 熟却已想别是  透知的子 在什动 我到店分漂 它伤拥的娘只 娘法依娘止 娘\n - 不分开 了可去简以爱句 我办定到 熟却已想别是  透知的子 在什动 我到店分漂 它伤拥的娘只 娘法依娘止 \n",
      " - 分开 它可灌木句旁邂办 一 正气 他经笑子我有惯烦恼小 没怎你我有你烦 我有多烦恼多 熬想 穿不时层不停试\n - 不分开不了口让她知道 我的天画在的太受  边穿过默层地壶试鸠 力常在眼多 着想的手不放开 爱可不让以碰神还\n",
      " - 分开 它可灌实句旁点办逗射 物堂 它属拥我年只能在怕脑 蜥有横著我 家和的爹棒早已想猜开不透口想子默不什过\n - 不分开 它可灌实句旁点办逗射 物堂 它属拥我年只能在怕脑 蜥有横著我 家和的爹棒早已想猜开不透口想子默不什\n",
      " - 分开 了可去简以将句还 说离怎么无有打我妈妈 难说你笔 我真的分用 话说完说过义 慢彻温忆的让有疯狂的可爱\n - 不分开 了可去简以将句还 说离怎么无有打我妈妈 难说你笔 我真的分用 话说完说过义 慢彻温忆的让有疯狂的可\n",
      " - 分开 了可去简以爱句想我办不到 什却已想别人 爸么回那看着  想 有不  不知不觉 你已经很是 说了怎么说\n - 不分开 了可去简以爱句想我办不到 什却已想别人 爸么回那看着  想 有不  不知不觉 你已经很是 说了怎么\n",
      " - 分开 了可去简以爱单 的伤迹被隐清 痛见 为给耿直不屈 一身正气 他经能子去 在将我  你 在我没 你烦在\n - 不分开 了可去简以爱单 的伤迹被隐清 痛见 为给耿直不屈 一身正气 他经能子去 在将我  你 在我没 你烦\n"
     ],
     "output_type": "stream"
    }
   ],
   "source": [
    "num_epochs, batch_size, lr, clipping_theta = 100, 32, 1e2, 1e-2\n",
    "pred_period, pred_len, prefixes = 10, 50, ['分开 ', '不分开'] # num_step固定为3个字符\n",
    "train_and_predict_rnn_gluon(model, vocab_size, corpus_indices, idx_to_char, char_to_idx,\n",
    "                            num_epochs, num_steps, lr, clipping_theta,\n",
    "                            batch_size, pred_period, pred_len, prefixes)\n",
    "\n",
    "\n",
    "        "
   ],
   "metadata": {
    "collapsed": false,
    "pycharm": {
     "name": "#%%\n",
     "is_executing": false
    }
   }
  }
 ],
 "metadata": {
  "kernelspec": {
   "display_name": "Python 3",
   "language": "python",
   "name": "python3"
  },
  "language_info": {
   "codemirror_mode": {
    "name": "ipython",
    "version": 2
   },
   "file_extension": ".py",
   "mimetype": "text/x-python",
   "name": "python",
   "nbconvert_exporter": "python",
   "pygments_lexer": "ipython2",
   "version": "2.7.6"
  },
  "pycharm": {
   "stem_cell": {
    "cell_type": "raw",
    "source": [],
    "metadata": {
     "collapsed": false
    }
   }
  }
 },
 "nbformat": 4,
 "nbformat_minor": 0
}