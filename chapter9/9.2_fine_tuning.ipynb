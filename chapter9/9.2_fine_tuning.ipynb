{
 "cells": [
  {
   "cell_type": "markdown",
   "metadata": {
    "collapsed": true,
    "pycharm": {
     "name": "#%% md\n"
    }
   },
   "source": [
    "## 9.2 微调\n",
    "### 9.2.1 热狗识别"
   ]
  },
  {
   "cell_type": "code",
   "execution_count": 1,
   "outputs": [],
   "source": [
    "%matplotlib inline\n",
    "import d2lzh as d2l\n",
    "import numpy as np\n",
    "from tensorflow import keras\n",
    "from tensorflow.keras.preprocessing.image import ImageDataGenerator\n",
    "import os"
   ],
   "metadata": {
    "collapsed": false,
    "pycharm": {
     "name": "#%%\n",
     "is_executing": false
    }
   }
  },
  {
   "cell_type": "markdown",
   "source": [
    "#### 9.2.1.1 获取数据集"
   ],
   "metadata": {
    "collapsed": false,
    "pycharm": {
     "name": "#%% md\n"
    }
   }
  },
  {
   "cell_type": "code",
   "execution_count": 2,
   "outputs": [],
   "source": [
    "data_dir = '../data'\n",
    "base_url = 'https://apache-mxnet.s3-accelerate.amazonaws.com/'\n",
    "fname = keras.utils.get_file(\n",
    "    fname='hotdog.zip',\n",
    "    cache_dir=data_dir,\n",
    "    origin=base_url + 'gluon/dataset/hotdog.zip',\n",
    "    extract=True)"
   ],
   "metadata": {
    "collapsed": false,
    "pycharm": {
     "name": "#%%\n",
     "is_executing": false
    }
   }
  },
  {
   "cell_type": "code",
   "execution_count": 3,
   "outputs": [],
   "source": [
    "train_augs = ImageDataGenerator(\n",
    "    zoom_range=(0.9, 1.1),\n",
    "    width_shift_range=0.1,\n",
    "    height_shift_range=0.1,\n",
    "    horizontal_flip=True,\n",
    "    featurewise_center=True,\n",
    "    samplewise_center=True,\n",
    "    featurewise_std_normalization=True,\n",
    "    samplewise_std_normalization=True,\n",
    ")\n",
    "\n",
    "test_augs = ImageDataGenerator(\n",
    "    featurewise_center=True,\n",
    "    samplewise_center=True,\n",
    "    featurewise_std_normalization=True,\n",
    "    samplewise_std_normalization=True,\n",
    ")\n",
    "\n",
    "train_imgs = train_augs.flow_from_directory(\n",
    "    os.path.join(data_dir, 'datasets/hotdog/train'), \n",
    "    target_size=(224, 224), batch_size=32)\n",
    "\n",
    "test_imgs = test_augs.flow_from_directory(\n",
    "    os.path.join(data_dir, 'datasets/hotdog/test'), \n",
    "    target_size=(224, 224), batch_size=32)"
   ],
   "metadata": {
    "collapsed": false,
    "pycharm": {
     "name": "#%%\n",
     "is_executing": false
    }
   }
  },
  {
   "cell_type": "code",
   "execution_count": 4,
   "outputs": [],
   "source": [
    "batch_x, batch_y = train_imgs.next()\n",
    "print(batch_x[0])"
   ],
   "metadata": {
    "collapsed": false,
    "pycharm": {
     "name": "#%%\n",
     "is_executing": false
    }
   }
  },
  {
   "cell_type": "markdown",
   "source": [
    "#### 9.2.1.2 定义和初始化模型"
   ],
   "metadata": {
    "collapsed": false,
    "pycharm": {
     "name": "#%% md\n"
    }
   }
  },
  {
   "cell_type": "code",
   "execution_count": 5,
   "outputs": [],
   "source": [
    "resnet50 = keras.applications.ResNet50(\n",
    "    include_top=False, \n",
    "    weights='imagenet', \n",
    "    classes=2, \n",
    "    input_shape=(224, 224, 3), \n",
    "    pooling='avg')\n",
    "x = keras.layers.Dense(2, activation='softmax')(resnet50.output)\n",
    "model = keras.Model(resnet50.input, x)\n",
    "model.compile(optimizer='adam', loss=keras.losses.categorical_crossentropy, metrics=['acc'])\n",
    "model.summary()"
   ],
   "metadata": {
    "collapsed": false,
    "pycharm": {
     "name": "#%%\n",
     "is_executing": false
    }
   }
  },
  {
   "cell_type": "code",
   "execution_count": null,
   "outputs": [],
   "source": [
    "model.fit_generator(train_imgs, validation_data=test_imgs, epochs=5)"
   ],
   "metadata": {
    "collapsed": false,
    "pycharm": {
     "name": "#%%\n",
     "is_executing": true
    }
   }
  }
 ],
 "metadata": {
  "kernelspec": {
   "display_name": "Python 3",
   "language": "python",
   "name": "python3"
  },
  "language_info": {
   "codemirror_mode": {
    "name": "ipython",
    "version": 2
   },
   "file_extension": ".py",
   "mimetype": "text/x-python",
   "name": "python",
   "nbconvert_exporter": "python",
   "pygments_lexer": "ipython2",
   "version": "2.7.6"
  },
  "pycharm": {
   "stem_cell": {
    "cell_type": "raw",
    "source": [],
    "metadata": {
     "collapsed": false
    }
   }
  }
 },
 "nbformat": 4,
 "nbformat_minor": 0
}